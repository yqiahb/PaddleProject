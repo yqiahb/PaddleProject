{
 "cells": [
  {
   "cell_type": "code",
   "execution_count": 3,
   "metadata": {
    "ExecuteTime": {
     "end_time": "2019-12-27T01:24:43.622437Z",
     "start_time": "2019-12-27T01:24:43.613437Z"
    }
   },
   "outputs": [
    {
     "data": {
      "text/plain": [
       "[3, 5, 7, 9, 11]"
      ]
     },
     "execution_count": 3,
     "metadata": {},
     "output_type": "execute_result"
    }
   ],
   "source": [
    "# Python原生的list\n",
    "# 假设有两个list\n",
    "a = [1, 2, 3, 4, 5]\n",
    "b = [2, 3, 4, 5, 6]\n",
    "\n",
    "# 完成如下计算\n",
    "# 1 对a的每个元素 + 1\n",
    "# a = a + 1 不能这么写，会报错\n",
    "# a[:] = a[:] + 1 也不能这么写，也会报错\n",
    "for i in range(5):\n",
    "    a[i] = a[i] + b[i]\n",
    "a"
   ]
  },
  {
   "cell_type": "code",
   "execution_count": 25,
   "metadata": {
    "ExecuteTime": {
     "end_time": "2019-12-27T01:34:40.126437Z",
     "start_time": "2019-12-27T01:34:40.115437Z"
    }
   },
   "outputs": [
    {
     "data": {
      "text/plain": [
       "(array([[1],\n",
       "        [2],\n",
       "        [3],\n",
       "        [4],\n",
       "        [5],\n",
       "        [6]]), (6, 1))"
      ]
     },
     "execution_count": 25,
     "metadata": {},
     "output_type": "execute_result"
    }
   ],
   "source": [
    "# 使用ndarray\n",
    "import numpy as np\n",
    "a = np.array([1, 2, 3, 4, 5, 6])\n",
    "a = a.reshape((-1,1))\n",
    "a, a.shape"
   ]
  },
  {
   "cell_type": "code",
   "execution_count": 16,
   "metadata": {
    "ExecuteTime": {
     "end_time": "2019-12-27T01:30:28.486437Z",
     "start_time": "2019-12-27T01:30:28.478437Z"
    }
   },
   "outputs": [
    {
     "data": {
      "text/plain": [
       "[1, 2, 3, 4, 5, 2, 3, 4, 5, 6]"
      ]
     },
     "execution_count": 16,
     "metadata": {},
     "output_type": "execute_result"
    }
   ],
   "source": [
    "# 2 计算 a和b中对应位置元素的和，是否可以这么写？\n",
    "a = [1, 2, 3, 4, 5]\n",
    "b = [2, 3, 4, 5, 6]\n",
    "c = a + b\n",
    "# 检查输出发现，不是想要的结果\n",
    "c"
   ]
  },
  {
   "cell_type": "code",
   "execution_count": 17,
   "metadata": {
    "ExecuteTime": {
     "end_time": "2019-12-27T01:30:44.968437Z",
     "start_time": "2019-12-27T01:30:44.955437Z"
    }
   },
   "outputs": [
    {
     "data": {
      "text/plain": [
       "[3, 5, 7, 9, 11]"
      ]
     },
     "execution_count": 17,
     "metadata": {},
     "output_type": "execute_result"
    }
   ],
   "source": [
    "# 使用for循环，完成两个list对应位置元素相加\n",
    "c = []\n",
    "for i in range(5):\n",
    "    c.append(a[i] + b[i])\n",
    "c"
   ]
  },
  {
   "cell_type": "code",
   "execution_count": 18,
   "metadata": {
    "ExecuteTime": {
     "end_time": "2019-12-27T01:31:14.290437Z",
     "start_time": "2019-12-27T01:31:14.281437Z"
    }
   },
   "outputs": [
    {
     "data": {
      "text/plain": [
       "array([ 3,  5,  7,  9, 11])"
      ]
     },
     "execution_count": 18,
     "metadata": {},
     "output_type": "execute_result"
    }
   ],
   "source": [
    "# 使用numpy中的ndarray完成两个ndarray相加\n",
    "import numpy as np\n",
    "a = np.array([1, 2, 3, 4, 5])\n",
    "b = np.array([2, 3, 4, 5, 6])\n",
    "c = a + b \n",
    "c"
   ]
  },
  {
   "cell_type": "code",
   "execution_count": 19,
   "metadata": {
    "ExecuteTime": {
     "end_time": "2019-12-27T01:31:53.163437Z",
     "start_time": "2019-12-27T01:31:53.133437Z"
    }
   },
   "outputs": [
    {
     "data": {
      "text/plain": [
       "array([[ 5,  8, 11, 14, 17],\n",
       "       [10, 13, 16, 19, 22]])"
      ]
     },
     "execution_count": 19,
     "metadata": {},
     "output_type": "execute_result"
    }
   ],
   "source": [
    "# 自动广播机制，1维数组和2维数组相加\n",
    "\n",
    "# 二维数组维度 2x5\n",
    "# array([[ 1,  2,  3,  4,  5],\n",
    "#         [ 6,  7,  8,  9, 10]])\n",
    "d = np.array([[1, 2, 3, 4, 5], [6, 7, 8, 9, 10]])\n",
    "# c是一维数组，维度5\n",
    "# array([ 4,  6,  8, 10, 12])\n",
    "c = np.array([ 4,  6,  8, 10, 12])\n",
    "e = d + c\n",
    "e"
   ]
  },
  {
   "cell_type": "code",
   "execution_count": 26,
   "metadata": {
    "ExecuteTime": {
     "end_time": "2019-12-27T01:35:18.753437Z",
     "start_time": "2019-12-27T01:35:18.746437Z"
    }
   },
   "outputs": [
    {
     "data": {
      "text/plain": [
       "array([1, 2, 3, 4, 5, 6])"
      ]
     },
     "execution_count": 26,
     "metadata": {},
     "output_type": "execute_result"
    }
   ],
   "source": [
    "# 导入numpy\n",
    "import numpy as np\n",
    "\n",
    "# 从list创建array\n",
    "a = [1,2,3,4,5,6]\n",
    "b = np.array(a)\n",
    "b"
   ]
  },
  {
   "cell_type": "code",
   "execution_count": 29,
   "metadata": {
    "ExecuteTime": {
     "end_time": "2019-12-27T01:36:21.995437Z",
     "start_time": "2019-12-27T01:36:21.977437Z"
    }
   },
   "outputs": [
    {
     "data": {
      "text/plain": [
       "array([ 0,  1,  2,  3,  4,  5,  6,  7,  8,  9, 10, 11, 12, 13, 14, 15, 16,\n",
       "       17, 18, 19])"
      ]
     },
     "execution_count": 29,
     "metadata": {},
     "output_type": "execute_result"
    }
   ],
   "source": [
    "# 通过np.arange创建\n",
    "# 通过指定start, stop (不包括stop)，interval来产生一个1为的ndarray\n",
    "a = np.arange(0, 20, 1)\n",
    "a"
   ]
  },
  {
   "cell_type": "code",
   "execution_count": 33,
   "metadata": {
    "ExecuteTime": {
     "end_time": "2019-12-27T01:37:18.695437Z",
     "start_time": "2019-12-27T01:37:18.688437Z"
    }
   },
   "outputs": [
    {
     "data": {
      "text/plain": [
       "array([[0., 0., 0.],\n",
       "       [0., 0., 0.],\n",
       "       [0., 0., 0.]])"
      ]
     },
     "execution_count": 33,
     "metadata": {},
     "output_type": "execute_result"
    }
   ],
   "source": [
    "# 创建全0的ndarray\n",
    "a = np.zeros([3,3])\n",
    "a"
   ]
  },
  {
   "cell_type": "code",
   "execution_count": 40,
   "metadata": {
    "ExecuteTime": {
     "end_time": "2019-12-27T01:38:36.076437Z",
     "start_time": "2019-12-27T01:38:36.060437Z"
    }
   },
   "outputs": [
    {
     "data": {
      "text/plain": [
       "array([[36., 36., 36.],\n",
       "       [36., 36., 36.],\n",
       "       [36., 36., 36.]])"
      ]
     },
     "execution_count": 40,
     "metadata": {},
     "output_type": "execute_result"
    }
   ],
   "source": [
    "# 创建全1的ndarray\n",
    "a = np.ones([3,3])\n",
    "a = a*3 + 3\n",
    "a*a"
   ]
  },
  {
   "cell_type": "code",
   "execution_count": 43,
   "metadata": {
    "ExecuteTime": {
     "end_time": "2019-12-27T01:45:12.571437Z",
     "start_time": "2019-12-27T01:45:12.559437Z"
    }
   },
   "outputs": [
    {
     "name": "stdout",
     "output_type": "stream",
     "text": [
      "a, dtype: float64, shape: (3, 3), size: 9, ndim: 2\n"
     ]
    },
    {
     "data": {
      "text/plain": [
       "array([[1., 1., 1.],\n",
       "       [1., 1., 1.],\n",
       "       [1., 1., 1.]])"
      ]
     },
     "execution_count": 43,
     "metadata": {},
     "output_type": "execute_result"
    }
   ],
   "source": [
    "# 数组的数据类型 ndarray.dtype\n",
    "# 数组的形状 ndarray.shape，1维数组(N, )，二维数组(M, N)，三维数组(M, N, K)\n",
    "# 数组的维度大小，ndarray.ndim, 其大小等于ndarray.shape所包含元素的个数\n",
    "# 数组中包含的元素个数 ndarray.size，其大小等于各个维度的长度的乘积\n",
    "\n",
    "a = np.ones([3, 3])\n",
    "print('a, dtype: {}, shape: {}, size: {}, ndim: {}'.format(a.dtype, a.shape, a.size, a.ndim))\n",
    "a"
   ]
  },
  {
   "cell_type": "code",
   "execution_count": 44,
   "metadata": {
    "ExecuteTime": {
     "end_time": "2019-12-27T01:45:21.515437Z",
     "start_time": "2019-12-27T01:45:21.501437Z"
    }
   },
   "outputs": [
    {
     "name": "stdout",
     "output_type": "stream",
     "text": [
      "b, dtype: int64, shape: (3, 3)\n",
      "c, dtype: float64, shape: (1, 9)\n"
     ]
    },
    {
     "data": {
      "text/plain": [
       "(array([[1, 1, 1],\n",
       "        [1, 1, 1],\n",
       "        [1, 1, 1]], dtype=int64),\n",
       " array([[1., 1., 1., 1., 1., 1., 1., 1., 1.]]))"
      ]
     },
     "execution_count": 44,
     "metadata": {},
     "output_type": "execute_result"
    }
   ],
   "source": [
    "# 转化数据类型\n",
    "b = a.astype(np.int64)\n",
    "print('b, dtype: {}, shape: {}'.format(b.dtype, b.shape))\n",
    "\n",
    "# 改变形状\n",
    "c = a.reshape([1, 9])\n",
    "print('c, dtype: {}, shape: {}'.format(c.dtype, c.shape))\n",
    "\n",
    "b, c"
   ]
  },
  {
   "cell_type": "code",
   "execution_count": 45,
   "metadata": {
    "ExecuteTime": {
     "end_time": "2019-12-27T01:46:55.539437Z",
     "start_time": "2019-12-27T01:46:55.533437Z"
    }
   },
   "outputs": [
    {
     "data": {
      "text/plain": [
       "array([[1.        , 0.5       , 0.33333333],\n",
       "       [0.25      , 0.2       , 0.16666667]])"
      ]
     },
     "execution_count": 45,
     "metadata": {},
     "output_type": "execute_result"
    }
   ],
   "source": [
    "# 标量除以数组，用标量除以数组的每一个元素\n",
    "arr = np.array([[1., 2., 3.], [4., 5., 6.]])\n",
    "1. / arr"
   ]
  },
  {
   "cell_type": "code",
   "execution_count": 46,
   "metadata": {
    "ExecuteTime": {
     "end_time": "2019-12-27T01:47:06.424437Z",
     "start_time": "2019-12-27T01:47:06.409437Z"
    }
   },
   "outputs": [
    {
     "data": {
      "text/plain": [
       "array([[ 2.,  4.,  6.],\n",
       "       [ 8., 10., 12.]])"
      ]
     },
     "execution_count": 46,
     "metadata": {},
     "output_type": "execute_result"
    }
   ],
   "source": [
    "# 标量乘以数组，用标量乘以数组的每一个元素\n",
    "arr = np.array([[1., 2., 3.], [4., 5., 6.]])\n",
    "2.0 * arr"
   ]
  },
  {
   "cell_type": "code",
   "execution_count": 47,
   "metadata": {
    "ExecuteTime": {
     "end_time": "2019-12-27T01:47:14.811437Z",
     "start_time": "2019-12-27T01:47:14.801437Z"
    }
   },
   "outputs": [
    {
     "data": {
      "text/plain": [
       "array([[3., 4., 5.],\n",
       "       [6., 7., 8.]])"
      ]
     },
     "execution_count": 47,
     "metadata": {},
     "output_type": "execute_result"
    }
   ],
   "source": [
    "# 标量加上数组，用标量加上数组的每一个元素\n",
    "arr = np.array([[1., 2., 3.], [4., 5., 6.]])\n",
    "2.0 + arr"
   ]
  },
  {
   "cell_type": "code",
   "execution_count": 48,
   "metadata": {
    "ExecuteTime": {
     "end_time": "2019-12-27T01:47:23.320437Z",
     "start_time": "2019-12-27T01:47:23.306437Z"
    }
   },
   "outputs": [
    {
     "data": {
      "text/plain": [
       "array([[ 1.,  0., -1.],\n",
       "       [-2., -3., -4.]])"
      ]
     },
     "execution_count": 48,
     "metadata": {},
     "output_type": "execute_result"
    }
   ],
   "source": [
    "# 标量减去数组，用标量减去数组的每一个元素\n",
    "arr = np.array([[1., 2., 3.], [4., 5., 6.]])\n",
    "2.0 - arr"
   ]
  },
  {
   "cell_type": "code",
   "execution_count": 49,
   "metadata": {
    "ExecuteTime": {
     "end_time": "2019-12-27T01:47:32.928437Z",
     "start_time": "2019-12-27T01:47:32.920437Z"
    }
   },
   "outputs": [
    {
     "data": {
      "text/plain": [
       "array([[-10., -10., -10.],\n",
       "       [-17., -17., -17.]])"
      ]
     },
     "execution_count": 49,
     "metadata": {},
     "output_type": "execute_result"
    }
   ],
   "source": [
    "# 数组 减去 数组， 用对应位置的元素相减\n",
    "arr1 = np.array([[1., 2., 3.], [4., 5., 6.]])\n",
    "arr2 = np.array([[11., 12., 13.], [21., 22., 23.]])\n",
    "arr1 - arr2"
   ]
  },
  {
   "cell_type": "code",
   "execution_count": 51,
   "metadata": {
    "ExecuteTime": {
     "end_time": "2019-12-27T01:49:12.847437Z",
     "start_time": "2019-12-27T01:49:12.843437Z"
    }
   },
   "outputs": [
    {
     "data": {
      "text/plain": [
       "array([[ 11.,  24.,  39.],\n",
       "       [ 84., 110., 138.]])"
      ]
     },
     "execution_count": 51,
     "metadata": {},
     "output_type": "execute_result"
    }
   ],
   "source": [
    "arr1 * arr2"
   ]
  },
  {
   "cell_type": "code",
   "execution_count": 53,
   "metadata": {
    "ExecuteTime": {
     "end_time": "2019-12-27T01:49:32.655437Z",
     "start_time": "2019-12-27T01:49:32.646437Z"
    }
   },
   "outputs": [
    {
     "data": {
      "text/plain": [
       "array([[1.        , 1.41421356, 1.73205081],\n",
       "       [2.        , 2.23606798, 2.44948974]])"
      ]
     },
     "execution_count": 53,
     "metadata": {},
     "output_type": "execute_result"
    }
   ],
   "source": [
    "# 数组开根号，将每个位置的元素都开根号\n",
    "arr1 ** 0.5"
   ]
  },
  {
   "cell_type": "code",
   "execution_count": 56,
   "metadata": {
    "ExecuteTime": {
     "end_time": "2019-12-27T01:51:06.916437Z",
     "start_time": "2019-12-27T01:51:06.909437Z"
    }
   },
   "outputs": [
    {
     "data": {
      "text/plain": [
       "array([ 0,  1,  2,  3,  4,  5,  6,  7,  8,  9, 10, 11, 12, 13, 14, 15, 16,\n",
       "       17, 18, 19, 20, 21, 22, 23, 24, 25, 26, 27, 28, 29])"
      ]
     },
     "execution_count": 56,
     "metadata": {},
     "output_type": "execute_result"
    }
   ],
   "source": [
    "# 1维数组索引和切片\n",
    "a = np.arange(30)\n",
    "a"
   ]
  },
  {
   "cell_type": "code",
   "execution_count": 57,
   "metadata": {
    "ExecuteTime": {
     "end_time": "2019-12-27T01:51:10.511437Z",
     "start_time": "2019-12-27T01:51:10.499437Z"
    }
   },
   "outputs": [
    {
     "data": {
      "text/plain": [
       "array([4, 5, 6])"
      ]
     },
     "execution_count": 57,
     "metadata": {},
     "output_type": "execute_result"
    }
   ],
   "source": [
    "a = np.arange(30)\n",
    "b = a[4:7]\n",
    "b"
   ]
  },
  {
   "cell_type": "code",
   "execution_count": 58,
   "metadata": {
    "ExecuteTime": {
     "end_time": "2019-12-27T01:51:48.222437Z",
     "start_time": "2019-12-27T01:51:48.213437Z"
    }
   },
   "outputs": [
    {
     "data": {
      "text/plain": [
       "array([ 0,  1,  2,  3, 10, 10, 10,  7,  8,  9, 10, 11, 12, 13, 14, 15, 16,\n",
       "       17, 18, 19, 20, 21, 22, 23, 24, 25, 26, 27, 28, 29])"
      ]
     },
     "execution_count": 58,
     "metadata": {},
     "output_type": "execute_result"
    }
   ],
   "source": [
    "#将一个标量值赋值给一个切片时，该值会自动传播到整个选区（如下图所示）\n",
    "a = np.arange(30)\n",
    "a[4:7] = 10\n",
    "a"
   ]
  },
  {
   "cell_type": "code",
   "execution_count": 59,
   "metadata": {
    "ExecuteTime": {
     "end_time": "2019-12-27T01:52:51.854437Z",
     "start_time": "2019-12-27T01:52:51.846437Z"
    }
   },
   "outputs": [
    {
     "data": {
      "text/plain": [
       "(array([  0,   1,   2,   3, 100,   5,   6,   7,   8,   9,  10,  11,  12,\n",
       "         13,  14,  15,  16,  17,  18,  19,  20,  21,  22,  23,  24,  25,\n",
       "         26,  27,  28,  29]), array([100,   5,   6]))"
      ]
     },
     "execution_count": 59,
     "metadata": {},
     "output_type": "execute_result"
    }
   ],
   "source": [
    "# 数组切片是原始数组的视图。这意味着数据不会被复制，\n",
    "# 视图上的任何修改都会直接反映到源数组上\n",
    "a = np.arange(30)\n",
    "arr_slice = a[4:7]\n",
    "arr_slice[0] = 100\n",
    "a, arr_slice"
   ]
  },
  {
   "cell_type": "code",
   "execution_count": 60,
   "metadata": {
    "ExecuteTime": {
     "end_time": "2019-12-27T01:54:39.707437Z",
     "start_time": "2019-12-27T01:54:39.700437Z"
    }
   },
   "outputs": [
    {
     "data": {
      "text/plain": [
       "(array([ 0,  1,  2,  3,  4,  5,  6,  7,  8,  9, 10, 11, 12, 13, 14, 15, 16,\n",
       "        17, 18, 19, 20, 21, 22, 23, 24, 25, 26, 27, 28, 29]),\n",
       " array([100,   5,   6]))"
      ]
     },
     "execution_count": 60,
     "metadata": {},
     "output_type": "execute_result"
    }
   ],
   "source": [
    "# 通过copy给新数组创建不同的内存空间\n",
    "# 不修改源数据\n",
    "a = np.arange(30)\n",
    "arr_slice = a[4:7]\n",
    "arr_slice = np.copy(arr_slice)\n",
    "arr_slice[0] = 100\n",
    "a, arr_slice"
   ]
  },
  {
   "cell_type": "code",
   "execution_count": 63,
   "metadata": {
    "ExecuteTime": {
     "end_time": "2019-12-27T01:57:11.665437Z",
     "start_time": "2019-12-27T01:57:11.655437Z"
    }
   },
   "outputs": [
    {
     "data": {
      "text/plain": [
       "array([[[ 0,  1],\n",
       "        [ 2,  3],\n",
       "        [ 4,  5]],\n",
       "\n",
       "       [[ 6,  7],\n",
       "        [ 8,  9],\n",
       "        [10, 11]],\n",
       "\n",
       "       [[12, 13],\n",
       "        [14, 15],\n",
       "        [16, 17]],\n",
       "\n",
       "       [[18, 19],\n",
       "        [20, 21],\n",
       "        [22, 23]],\n",
       "\n",
       "       [[24, 25],\n",
       "        [26, 27],\n",
       "        [28, 29]]])"
      ]
     },
     "execution_count": 63,
     "metadata": {},
     "output_type": "execute_result"
    }
   ],
   "source": [
    "# 多维数组索引和切片\n",
    "a = np.arange(30)\n",
    "arr3d = a.reshape(5, 3, 2)\n",
    "arr3d"
   ]
  },
  {
   "cell_type": "code",
   "execution_count": 64,
   "metadata": {
    "ExecuteTime": {
     "end_time": "2019-12-27T01:57:23.791437Z",
     "start_time": "2019-12-27T01:57:23.785437Z"
    }
   },
   "outputs": [
    {
     "data": {
      "text/plain": [
       "array([[0, 1],\n",
       "       [2, 3],\n",
       "       [4, 5]])"
      ]
     },
     "execution_count": 64,
     "metadata": {},
     "output_type": "execute_result"
    }
   ],
   "source": [
    "# 只有一个索引指标时，会在第0维上索引，后面的维度保持不变\n",
    "arr3d[0]"
   ]
  },
  {
   "cell_type": "code",
   "execution_count": 65,
   "metadata": {
    "ExecuteTime": {
     "end_time": "2019-12-27T01:58:23.656437Z",
     "start_time": "2019-12-27T01:58:23.648437Z"
    }
   },
   "outputs": [
    {
     "data": {
      "text/plain": [
       "array([2, 3])"
      ]
     },
     "execution_count": 65,
     "metadata": {},
     "output_type": "execute_result"
    }
   ],
   "source": [
    "# 两个索引指标\n",
    "arr3d[0][1]"
   ]
  },
  {
   "cell_type": "code",
   "execution_count": 73,
   "metadata": {
    "ExecuteTime": {
     "end_time": "2019-12-27T02:04:25.197437Z",
     "start_time": "2019-12-27T02:04:25.187437Z"
    }
   },
   "outputs": [
    {
     "data": {
      "text/plain": [
       "(array([[1, 2, 3],\n",
       "        [4, 5, 6],\n",
       "        [7, 8, 9]]), 5.0, 5.0)"
      ]
     },
     "execution_count": 73,
     "metadata": {},
     "output_type": "execute_result"
    }
   ],
   "source": [
    "# 计算均值，使用arr.mean() 或 np.mean(arr)，二者是等价的\n",
    "arr = np.array([[1,2,3], [4,5,6], [7,8,9]])\n",
    "arr, arr.mean(), np.mean(arr)"
   ]
  },
  {
   "cell_type": "code",
   "execution_count": 74,
   "metadata": {
    "ExecuteTime": {
     "end_time": "2019-12-27T02:04:26.003437Z",
     "start_time": "2019-12-27T02:04:25.994437Z"
    }
   },
   "outputs": [
    {
     "data": {
      "text/plain": [
       "array([2., 5., 8.])"
      ]
     },
     "execution_count": 74,
     "metadata": {},
     "output_type": "execute_result"
    }
   ],
   "source": [
    "# 指定计算的维度\n",
    "# 沿着第1维求平均，也就是将[1, 2, 3]取平均等于2，[4, 5, 6]取平均等于5，[7, 8, 9]取平均等于8\n",
    "arr.mean(axis = 1)"
   ]
  },
  {
   "cell_type": "code",
   "execution_count": 75,
   "metadata": {
    "ExecuteTime": {
     "end_time": "2019-12-27T02:04:28.581437Z",
     "start_time": "2019-12-27T02:04:28.576437Z"
    }
   },
   "outputs": [
    {
     "data": {
      "text/plain": [
       "array([12, 15, 18])"
      ]
     },
     "execution_count": 75,
     "metadata": {},
     "output_type": "execute_result"
    }
   ],
   "source": [
    "# 沿着第0维求和，也就是将[1, 4, 7]求和等于12，[2, 5, 8]求和等于15，[3, 6, 9]求和等于18\n",
    "arr.sum(axis=0)"
   ]
  },
  {
   "cell_type": "code",
   "execution_count": 77,
   "metadata": {
    "ExecuteTime": {
     "end_time": "2019-12-27T02:05:35.919437Z",
     "start_time": "2019-12-27T02:05:35.907437Z"
    }
   },
   "outputs": [
    {
     "data": {
      "text/plain": [
       "2.581988897471611"
      ]
     },
     "execution_count": 77,
     "metadata": {},
     "output_type": "execute_result"
    }
   ],
   "source": [
    "# 计算标准差\n",
    "arr.std()"
   ]
  },
  {
   "cell_type": "code",
   "execution_count": 78,
   "metadata": {
    "ExecuteTime": {
     "end_time": "2019-12-27T02:05:42.123437Z",
     "start_time": "2019-12-27T02:05:42.097437Z"
    }
   },
   "outputs": [
    {
     "data": {
      "text/plain": [
       "(8, array([2, 2, 2], dtype=int64), array([2, 2, 2], dtype=int64))"
      ]
     },
     "execution_count": 78,
     "metadata": {},
     "output_type": "execute_result"
    }
   ],
   "source": [
    "# 找出最大元素的索引\n",
    "arr.argmax(), arr.argmax(axis=0), arr.argmax(axis=1)"
   ]
  },
  {
   "cell_type": "code",
   "execution_count": 79,
   "metadata": {
    "ExecuteTime": {
     "end_time": "2019-12-27T02:07:40.040437Z",
     "start_time": "2019-12-27T02:07:40.016437Z"
    }
   },
   "outputs": [
    {
     "data": {
      "text/plain": [
       "array([[0.65723271, 0.90164206, 0.67779421],\n",
       "       [0.47413272, 0.93958914, 0.02175792],\n",
       "       [0.3656979 , 0.66235328, 0.98574341]])"
      ]
     },
     "execution_count": 79,
     "metadata": {},
     "output_type": "execute_result"
    }
   ],
   "source": [
    "# 生成均匀分布随机数，随机数取值范围在[0, 1)之间\n",
    "a = np.random.rand(3, 3)\n",
    "a"
   ]
  },
  {
   "cell_type": "code",
   "execution_count": 82,
   "metadata": {
    "ExecuteTime": {
     "end_time": "2019-12-27T02:09:29.339437Z",
     "start_time": "2019-12-27T02:09:29.335437Z"
    }
   },
   "outputs": [
    {
     "data": {
      "text/plain": [
       "array([[-0.57218955,  0.60290083],\n",
       "       [ 0.65718174,  0.36836304]])"
      ]
     },
     "execution_count": 82,
     "metadata": {},
     "output_type": "execute_result"
    }
   ],
   "source": [
    "# 生成均匀分布随机数，指定随机数取值范围和数组形状\n",
    "a = np.random.uniform(low = -1.0, high = 1.0, size=(2,2))\n",
    "a"
   ]
  },
  {
   "cell_type": "code",
   "execution_count": 83,
   "metadata": {
    "ExecuteTime": {
     "end_time": "2019-12-27T02:09:45.928437Z",
     "start_time": "2019-12-27T02:09:45.921437Z"
    }
   },
   "outputs": [
    {
     "data": {
      "text/plain": [
       "array([[-0.21322177,  0.59695617,  0.71717407],\n",
       "       [-0.38663835, -0.25868157, -1.07611951],\n",
       "       [ 1.07060688,  0.11522101, -1.32685885]])"
      ]
     },
     "execution_count": 83,
     "metadata": {},
     "output_type": "execute_result"
    }
   ],
   "source": [
    "# 生成标准正态分布随机数\n",
    "a = np.random.randn(3, 3)\n",
    "a"
   ]
  },
  {
   "cell_type": "code",
   "execution_count": 85,
   "metadata": {
    "ExecuteTime": {
     "end_time": "2019-12-27T02:10:18.436437Z",
     "start_time": "2019-12-27T02:10:18.431437Z"
    }
   },
   "outputs": [
    {
     "data": {
      "text/plain": [
       "array([[ 0.25840814,  1.82906773, -0.56787967],\n",
       "       [ 0.30813622,  0.8024633 ,  0.4127693 ],\n",
       "       [ 1.19695329,  1.57404365, -0.62467052]])"
      ]
     },
     "execution_count": 85,
     "metadata": {},
     "output_type": "execute_result"
    }
   ],
   "source": [
    "# 生成正态分布随机数，指定均值loc和方差scale\n",
    "a = np.random.normal(loc = 1.0, scale = 1.0, size = (3,3))\n",
    "a"
   ]
  },
  {
   "cell_type": "code",
   "execution_count": 88,
   "metadata": {
    "ExecuteTime": {
     "end_time": "2019-12-27T02:10:30.310437Z",
     "start_time": "2019-12-27T02:10:30.293437Z"
    }
   },
   "outputs": [
    {
     "data": {
      "text/plain": [
       "array([[0.37454012, 0.95071431, 0.73199394],\n",
       "       [0.59865848, 0.15601864, 0.15599452],\n",
       "       [0.05808361, 0.86617615, 0.60111501]])"
      ]
     },
     "execution_count": 88,
     "metadata": {},
     "output_type": "execute_result"
    }
   ],
   "source": [
    "# 可以多次运行，观察程序输出结果是否一致\n",
    "# 如果不设置随机数种子，观察多次运行输出结果是否一致\n",
    "np.random.seed(42)\n",
    "a = np.random.rand(3, 3)\n",
    "a"
   ]
  },
  {
   "cell_type": "code",
   "execution_count": 89,
   "metadata": {
    "ExecuteTime": {
     "end_time": "2019-12-27T02:10:51.882437Z",
     "start_time": "2019-12-27T02:10:51.863437Z"
    }
   },
   "outputs": [
    {
     "name": "stdout",
     "output_type": "stream",
     "text": [
      "before random shuffle:  [ 0  1  2  3  4  5  6  7  8  9 10 11 12 13 14 15 16 17 18 19 20 21 22 23\n",
      " 24 25 26 27 28 29]\n",
      "after random shuffle:  [27 13  8 22  4 14 19  7  3  6 28 12 17  9 15 10 16 18 24  0 26 25  5 11\n",
      " 29  1 20 21  2 23]\n"
     ]
    }
   ],
   "source": [
    "# 生成一维数组\n",
    "a = np.arange(0, 30)\n",
    "# 打乱一维数组顺序\n",
    "print('before random shuffle: ', a)\n",
    "np.random.shuffle(a)\n",
    "print('after random shuffle: ', a)"
   ]
  },
  {
   "cell_type": "code",
   "execution_count": 90,
   "metadata": {
    "ExecuteTime": {
     "end_time": "2019-12-27T02:11:42.062437Z",
     "start_time": "2019-12-27T02:11:42.057437Z"
    }
   },
   "outputs": [
    {
     "name": "stdout",
     "output_type": "stream",
     "text": [
      "before random shuffle: \n",
      "[[ 0  1  2]\n",
      " [ 3  4  5]\n",
      " [ 6  7  8]\n",
      " [ 9 10 11]\n",
      " [12 13 14]\n",
      " [15 16 17]\n",
      " [18 19 20]\n",
      " [21 22 23]\n",
      " [24 25 26]\n",
      " [27 28 29]]\n",
      "after random shuffle: \n",
      "[[15 16 17]\n",
      " [ 6  7  8]\n",
      " [12 13 14]\n",
      " [21 22 23]\n",
      " [27 28 29]\n",
      " [ 0  1  2]\n",
      " [ 9 10 11]\n",
      " [ 3  4  5]\n",
      " [18 19 20]\n",
      " [24 25 26]]\n"
     ]
    }
   ],
   "source": [
    "# 生成一维数组\n",
    "a = np.arange(0, 30)\n",
    "# 将一维数组转化成2维数组\n",
    "a = a.reshape(10, 3)\n",
    "# 打乱一维数组顺序\n",
    "print('before random shuffle: \\n{}'.format(a))\n",
    "np.random.shuffle(a)\n",
    "print('after random shuffle: \\n{}'.format(a))"
   ]
  },
  {
   "cell_type": "code",
   "execution_count": 91,
   "metadata": {
    "ExecuteTime": {
     "end_time": "2019-12-27T02:12:43.629437Z",
     "start_time": "2019-12-27T02:12:43.597437Z"
    }
   },
   "outputs": [
    {
     "data": {
      "text/plain": [
       "array([ 8, 25, 20,  1, 19])"
      ]
     },
     "execution_count": 91,
     "metadata": {},
     "output_type": "execute_result"
    }
   ],
   "source": [
    "# 随机选取一选部分元素\n",
    "a = np.arange(30)\n",
    "b = np.random.choice(a, size=5)\n",
    "b"
   ]
  },
  {
   "cell_type": "code",
   "execution_count": 99,
   "metadata": {
    "ExecuteTime": {
     "end_time": "2019-12-27T02:17:20.951437Z",
     "start_time": "2019-12-27T02:17:20.945437Z"
    }
   },
   "outputs": [
    {
     "name": "stdout",
     "output_type": "stream",
     "text": [
      "a: \n",
      "[ 0  1  2  3  4  5  6  7  8  9 10 11]\n",
      "b: \n",
      "[[ 0  1  2  3]\n",
      " [ 4  5  6  7]\n",
      " [ 8  9 10 11]]\n",
      "c: \n",
      "[[ 0  1  2]\n",
      " [ 3  4  5]\n",
      " [ 6  7  8]\n",
      " [ 9 10 11]]\n",
      "d: \n",
      "[[ 42  48  54]\n",
      " [114 136 158]\n",
      " [186 224 262]]\n"
     ]
    }
   ],
   "source": [
    "# 矩阵相乘\n",
    "a = np.arange(12)\n",
    "b = a.reshape([3, 4])\n",
    "c = a.reshape([4, 3])\n",
    "# 矩阵b的第二维大小，必须等于矩阵c的第一维大小\n",
    "d = b.dot(c) # 等价于 np.dot(b, c)\n",
    "print('a: \\n{}'.format(a))\n",
    "print('b: \\n{}'.format(b))\n",
    "print('c: \\n{}'.format(c))\n",
    "print('d: \\n{}'.format(d))"
   ]
  },
  {
   "cell_type": "code",
   "execution_count": 93,
   "metadata": {
    "ExecuteTime": {
     "end_time": "2019-12-27T02:14:56.284437Z",
     "start_time": "2019-12-27T02:14:56.278437Z"
    }
   },
   "outputs": [
    {
     "name": "stdout",
     "output_type": "stream",
     "text": [
      "d: \n",
      "[[ 42  48  54]\n",
      " [114 136 158]\n",
      " [186 224 262]]\n",
      "e: \n",
      "[ 42 136 262]\n",
      "f: \n",
      "[[ 42   0   0]\n",
      " [  0 136   0]\n",
      " [  0   0 262]]\n"
     ]
    }
   ],
   "source": [
    "# numpy.linalg  中有一组标准的矩阵分解运算以及诸如求逆和行列式之类的东西\n",
    "# np.linalg.diag 以一维数组的形式返回方阵的对角线（或非对角线）元素，\n",
    "# 或将一维数组转换为方阵（非对角线元素为0）\n",
    "e = np.diag(d)\n",
    "f = np.diag(e)\n",
    "print('d: \\n{}'.format(d))\n",
    "print('e: \\n{}'.format(e))\n",
    "print('f: \\n{}'.format(f))"
   ]
  },
  {
   "cell_type": "code",
   "execution_count": 94,
   "metadata": {
    "ExecuteTime": {
     "end_time": "2019-12-27T02:15:30.997437Z",
     "start_time": "2019-12-27T02:15:30.973437Z"
    }
   },
   "outputs": [
    {
     "data": {
      "text/plain": [
       "440"
      ]
     },
     "execution_count": 94,
     "metadata": {},
     "output_type": "execute_result"
    }
   ],
   "source": [
    "# trace, 计算对角线元素的和\n",
    "g = np.trace(d)\n",
    "g"
   ]
  },
  {
   "cell_type": "code",
   "execution_count": 100,
   "metadata": {
    "ExecuteTime": {
     "end_time": "2019-12-27T02:17:25.622437Z",
     "start_time": "2019-12-27T02:17:25.613437Z"
    }
   },
   "outputs": [
    {
     "data": {
      "text/plain": [
       "0.0"
      ]
     },
     "execution_count": 100,
     "metadata": {},
     "output_type": "execute_result"
    }
   ],
   "source": [
    "# det，计算行列式\n",
    "# d = d + 1\n",
    "h = np.linalg.det(d)\n",
    "h"
   ]
  },
  {
   "cell_type": "code",
   "execution_count": 106,
   "metadata": {
    "ExecuteTime": {
     "end_time": "2019-12-27T02:19:30.853437Z",
     "start_time": "2019-12-27T02:19:30.849437Z"
    }
   },
   "outputs": [
    {
     "data": {
      "text/plain": [
       "(array([ 4.36702561e+02,  3.29743887e+00, -2.00728619e-14]),\n",
       " array([[ 0.17716392,  0.77712552,  0.40824829],\n",
       "        [ 0.5095763 ,  0.07620532, -0.81649658],\n",
       "        [ 0.84198868, -0.62471488,  0.40824829]]))"
      ]
     },
     "execution_count": 106,
     "metadata": {},
     "output_type": "execute_result"
    }
   ],
   "source": [
    "# eig，计算特征值和特征向量\n",
    "i = np.linalg.eig(d)\n",
    "i"
   ]
  },
  {
   "cell_type": "code",
   "execution_count": 107,
   "metadata": {
    "ExecuteTime": {
     "end_time": "2019-12-27T02:20:01.962437Z",
     "start_time": "2019-12-27T02:20:01.919437Z"
    }
   },
   "outputs": [
    {
     "data": {
      "text/plain": [
       "array([[-1.8808988 ,  1.4447024 ,  1.36979356],\n",
       "       [-2.40089381, -0.07373086,  3.51252453],\n",
       "       [ 5.07181084, -0.48825261, -4.47565567]])"
      ]
     },
     "execution_count": 107,
     "metadata": {},
     "output_type": "execute_result"
    }
   ],
   "source": [
    "# inv，计算方阵的逆\n",
    "tmp = np.random.rand(3, 3)\n",
    "j = np.linalg.inv(tmp)\n",
    "j"
   ]
  },
  {
   "cell_type": "code",
   "execution_count": 108,
   "metadata": {
    "ExecuteTime": {
     "end_time": "2019-12-27T02:21:06.745437Z",
     "start_time": "2019-12-27T02:21:06.705437Z"
    }
   },
   "outputs": [
    {
     "data": {
      "text/plain": [
       "array([6.320e-03, 1.800e+01, 2.310e+00, ..., 3.969e+02, 7.880e+00,\n",
       "       1.190e+01])"
      ]
     },
     "execution_count": 108,
     "metadata": {},
     "output_type": "execute_result"
    }
   ],
   "source": [
    "# 使用np.fromfile从文本文件'housing.data'读入数据\n",
    "# 这里要设置参数sep = ' '，表示使用空白字符来分隔数据\n",
    "# 空格或者回车都属于空白字符，读入的数据被转化成1维数组\n",
    "d = np.fromfile('../Boston/housing.data', sep = ' ')\n",
    "d"
   ]
  },
  {
   "cell_type": "code",
   "execution_count": 109,
   "metadata": {
    "ExecuteTime": {
     "end_time": "2019-12-27T02:24:32.063437Z",
     "start_time": "2019-12-27T02:24:32.050437Z"
    }
   },
   "outputs": [
    {
     "data": {
      "text/plain": [
       "True"
      ]
     },
     "execution_count": 109,
     "metadata": {},
     "output_type": "execute_result"
    }
   ],
   "source": [
    "# 产生随机数组a\n",
    "a = np.random.rand(3,3)\n",
    "np.save('a.npy', a)\n",
    "\n",
    "# 从磁盘文件'a.npy'读入数组\n",
    "b = np.load('a.npy')\n",
    "\n",
    "# 检查a和b的数值是否一样\n",
    "check = (a == b).all()\n",
    "check"
   ]
  },
  {
   "cell_type": "code",
   "execution_count": 110,
   "metadata": {
    "ExecuteTime": {
     "end_time": "2019-12-27T02:27:24.575437Z",
     "start_time": "2019-12-27T02:27:23.313437Z"
    }
   },
   "outputs": [
    {
     "data": {
      "image/png": "[encoded data removed]",
      "text/plain": [
       "<Figure size 576x216 with 2 Axes>"
      ]
     },
     "metadata": {
      "needs_background": "light"
     },
     "output_type": "display_data"
    }
   ],
   "source": [
    "# ReLU和Sigmoid激活函数示意图\n",
    "import numpy as np\n",
    "%matplotlib inline\n",
    "import matplotlib.pyplot as plt\n",
    "import matplotlib.patches as patches\n",
    "\n",
    "#设置图片大小\n",
    "plt.figure(figsize=(8, 3))\n",
    "\n",
    "# x是1维数组，数组大小是从-10. 到10.的实数，每隔0.1取一个点\n",
    "x = np.arange(-10, 10, 0.1)\n",
    "# 计算 Sigmoid函数\n",
    "s = 1.0 / (1 + np.exp(- x))\n",
    "\n",
    "# 计算ReLU函数\n",
    "y = np.clip(x, a_min = 0., a_max = None)\n",
    "\n",
    "#########################################################\n",
    "# 以下部分为画图程序\n",
    "\n",
    "# 设置两个子图窗口，将Sigmoid的函数图像画在左边\n",
    "f = plt.subplot(121)\n",
    "# 画出函数曲线\n",
    "plt.plot(x, s, color='r')\n",
    "# 添加文字说明\n",
    "plt.text(-5., 0.9, r'$y=\\sigma(x)$', fontsize=13)\n",
    "# 设置坐标轴格式\n",
    "currentAxis=plt.gca()\n",
    "currentAxis.xaxis.set_label_text('x', fontsize=15)\n",
    "currentAxis.yaxis.set_label_text('y', fontsize=15)\n",
    "\n",
    "# 将ReLU的函数图像画在左边\n",
    "f = plt.subplot(122)\n",
    "# 画出函数曲线\n",
    "plt.plot(x, y, color='g')\n",
    "# 添加文字说明\n",
    "plt.text(-3.0, 9, r'$y=ReLU(x)$', fontsize=13)\n",
    "# 设置坐标轴格式\n",
    "currentAxis=plt.gca()\n",
    "currentAxis.xaxis.set_label_text('x', fontsize=15)\n",
    "currentAxis.yaxis.set_label_text('y', fontsize=15)\n",
    "\n",
    "plt.show()"
   ]
  },
  {
   "cell_type": "code",
   "execution_count": null,
   "metadata": {},
   "outputs": [],
   "source": []
  }
 ],
 "metadata": {
  "kernelspec": {
   "display_name": "Python 3",
   "language": "python",
   "name": "python3"
  },
  "language_info": {
   "codemirror_mode": {
    "name": "ipython",
    "version": 3
   },
   "file_extension": ".py",
   "mimetype": "text/x-python",
   "name": "python",
   "nbconvert_exporter": "python",
   "pygments_lexer": "ipython3",
   "version": "3.7.4"
  }
 },
 "nbformat": 4,
 "nbformat_minor": 2
}
