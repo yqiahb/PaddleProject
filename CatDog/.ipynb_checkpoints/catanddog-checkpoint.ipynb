{
 "cells": [
  {
   "cell_type": "markdown",
   "metadata": {
    "ExecuteTime": {
     "end_time": "2020-01-06T01:32:32.209000Z",
     "start_time": "2020-01-06T01:32:32.207000Z"
    }
   },
   "source": [
    "## 1 导入需要的包"
   ]
  },
  {
   "cell_type": "code",
   "execution_count": 2,
   "metadata": {
    "ExecuteTime": {
     "end_time": "2020-01-06T01:07:22.943000Z",
     "start_time": "2020-01-06T01:07:17.674000Z"
    }
   },
   "outputs": [],
   "source": [
    "#导入需要的包\n",
    "import paddle as paddle\n",
    "import paddle.fluid as fluid\n",
    "import numpy as np\n",
    "from PIL import Image\n",
    "import matplotlib.pyplot as plt\n",
    "import os"
   ]
  },
  {
   "cell_type": "markdown",
   "metadata": {},
   "source": [
    "## 2 获取数据集"
   ]
  },
  {
   "cell_type": "code",
   "execution_count": 18,
   "metadata": {
    "ExecuteTime": {
     "end_time": "2020-01-06T01:32:32.902000Z",
     "start_time": "2020-01-06T01:32:32.210000Z"
    }
   },
   "outputs": [],
   "source": [
    "BATCH_SIZE = 128\n",
    "#用于训练的数据提供器\n",
    "train_reader = paddle.batch(\n",
    "    paddle.reader.shuffle(paddle.dataset.cifar.train10(), \n",
    "                          buf_size=128*100),           \n",
    "    batch_size=BATCH_SIZE)                                \n",
    "#用于测试的数据提供器\n",
    "test_reader = paddle.batch(\n",
    "    paddle.dataset.cifar.test10(),                            \n",
    "    batch_size=BATCH_SIZE)  "
   ]
  },
  {
   "cell_type": "markdown",
   "metadata": {},
   "source": [
    "## 3 定义神经网络"
   ]
  },
  {
   "cell_type": "code",
   "execution_count": 19,
   "metadata": {
    "ExecuteTime": {
     "end_time": "2020-01-06T01:32:32.909000Z",
     "start_time": "2020-01-06T01:32:32.904000Z"
    }
   },
   "outputs": [],
   "source": [
    "def convolutional_neural_network(img):\n",
    "    # 第一个卷积-池化层\n",
    "    conv_pool_1 = fluid.nets.simple_img_conv_pool(\n",
    "        input=img,         # 输入图像\n",
    "        filter_size=5,     # 滤波器的大小\n",
    "        num_filters=20,    # filter 的数量。它与输出的通道相同\n",
    "        pool_size=2,       # 池化核大小2*2\n",
    "        pool_stride=2,     # 池化步长\n",
    "        act=\"relu\")        # 激活类型\n",
    "    conv_pool_1 = fluid.layers.batch_norm(conv_pool_1)\n",
    "    # 第二个卷积-池化层\n",
    "    conv_pool_2 = fluid.nets.simple_img_conv_pool(\n",
    "        input=conv_pool_1,\n",
    "        filter_size=5,\n",
    "        num_filters=50,\n",
    "        pool_size=2,\n",
    "        pool_stride=2,\n",
    "        act=\"relu\")\n",
    "    conv_pool_2 = fluid.layers.batch_norm(conv_pool_2)\n",
    "    # 第三个卷积-池化层\n",
    "    conv_pool_3 = fluid.nets.simple_img_conv_pool(\n",
    "        input=conv_pool_2,\n",
    "        filter_size=5,\n",
    "        num_filters=50,\n",
    "        pool_size=2,\n",
    "        pool_stride=2,\n",
    "        act=\"relu\")\n",
    "    # 以softmax为激活函数的全连接输出层，10类数据输出10个数字\n",
    "    prediction = fluid.layers.fc(input=conv_pool_3, size=10, act='softmax')\n",
    "    return prediction"
   ]
  },
  {
   "cell_type": "code",
   "execution_count": 20,
   "metadata": {
    "ExecuteTime": {
     "end_time": "2020-01-06T01:32:32.948000Z",
     "start_time": "2020-01-06T01:32:32.911000Z"
    }
   },
   "outputs": [],
   "source": [
    "#定义输入数据\n",
    "data_shape = [3, 32, 32]\n",
    "images = fluid.data(name='images', shape=data_shape, dtype='float32')\n",
    "label = fluid.data(name='label', shape=[1], dtype='int64')"
   ]
  },
  {
   "cell_type": "code",
   "execution_count": 9,
   "metadata": {
    "ExecuteTime": {
     "end_time": "2020-01-06T01:08:30.201000Z",
     "start_time": "2020-01-06T01:08:29.912000Z"
    }
   },
   "outputs": [],
   "source": [
    "# 获取分类器，用cnn进行分类\n",
    "predict =  convolutional_neural_network(images)"
   ]
  },
  {
   "cell_type": "code",
   "execution_count": 10,
   "metadata": {
    "ExecuteTime": {
     "end_time": "2020-01-06T01:08:30.556000Z",
     "start_time": "2020-01-06T01:08:30.539000Z"
    }
   },
   "outputs": [],
   "source": [
    "# 获取损失函数和准确率\n",
    "cost = fluid.layers.cross_entropy(input=predict, label=label) # 交叉熵\n",
    "avg_cost = fluid.layers.mean(cost)                            # 计算cost中所有元素的平均值\n",
    "acc = fluid.layers.accuracy(input=predict, label=label)       #使用输入和标签计算准确率"
   ]
  },
  {
   "cell_type": "code",
   "execution_count": 11,
   "metadata": {
    "ExecuteTime": {
     "end_time": "2020-01-06T01:08:31.571000Z",
     "start_time": "2020-01-06T01:08:31.422000Z"
    }
   },
   "outputs": [
    {
     "name": "stdout",
     "output_type": "stream",
     "text": [
      "完成\n"
     ]
    }
   ],
   "source": [
    "# 获取测试程序\n",
    "test_program = fluid.default_main_program().clone(for_test=True)\n",
    "\n",
    "# 定义优化方法\n",
    "optimizer =fluid.optimizer.Adam(learning_rate=0.001)\n",
    "optimizer.minimize(avg_cost)\n",
    "print(\"完成\")"
   ]
  },
  {
   "cell_type": "code",
   "execution_count": 12,
   "metadata": {
    "ExecuteTime": {
     "end_time": "2020-01-06T01:08:32.533000Z",
     "start_time": "2020-01-06T01:08:32.525000Z"
    }
   },
   "outputs": [],
   "source": [
    "# 定义使用CPU还是GPU，使用CPU时use_cuda = False,使用GPU时use_cuda = True\n",
    "use_cuda = False\n",
    "place = fluid.CUDAPlace(0) if use_cuda else fluid.CPUPlace()"
   ]
  },
  {
   "cell_type": "code",
   "execution_count": 13,
   "metadata": {
    "ExecuteTime": {
     "end_time": "2020-01-06T01:08:33.361000Z",
     "start_time": "2020-01-06T01:08:33.315000Z"
    }
   },
   "outputs": [
    {
     "data": {
      "text/plain": [
       "[]"
      ]
     },
     "execution_count": 13,
     "metadata": {},
     "output_type": "execute_result"
    }
   ],
   "source": [
    "# 创建执行器，初始化参数\n",
    "\n",
    "exe = fluid.Executor(place)\n",
    "exe.run(fluid.default_startup_program())"
   ]
  },
  {
   "cell_type": "code",
   "execution_count": 14,
   "metadata": {
    "ExecuteTime": {
     "end_time": "2020-01-06T01:08:34.295000Z",
     "start_time": "2020-01-06T01:08:34.291000Z"
    }
   },
   "outputs": [],
   "source": [
    "feeder = fluid.DataFeeder( feed_list=[images, label],place=place)"
   ]
  },
  {
   "cell_type": "code",
   "execution_count": 15,
   "metadata": {
    "ExecuteTime": {
     "end_time": "2020-01-06T01:08:35.745000Z",
     "start_time": "2020-01-06T01:08:35.728000Z"
    }
   },
   "outputs": [],
   "source": [
    "all_train_iter=0\n",
    "all_train_iters=[]\n",
    "all_train_costs=[]\n",
    "all_train_accs=[]\n",
    "\n",
    "def draw_train_process(title,iters,costs,accs,label_cost,lable_acc):\n",
    "    plt.title(title, fontsize=24)\n",
    "    plt.xlabel(\"iter\", fontsize=20)\n",
    "    plt.ylabel(\"cost/acc\", fontsize=20)\n",
    "    plt.plot(iters, costs,color='red',label=label_cost) \n",
    "    plt.plot(iters, accs,color='green',label=lable_acc) \n",
    "    plt.legend()\n",
    "    plt.grid()\n",
    "    plt.show()"
   ]
  },
  {
   "cell_type": "code",
   "execution_count": 16,
   "metadata": {
    "ExecuteTime": {
     "end_time": "2020-01-06T01:32:32.205000Z",
     "start_time": "2020-01-06T01:08:37.016000Z"
    }
   },
   "outputs": [
    {
     "name": "stdout",
     "output_type": "stream",
     "text": [
      "Pass:0, Batch:0, Cost:2.82350, Accuracy:0.09375\n",
      "Pass:0, Batch:100, Cost:1.51570, Accuracy:0.47656\n",
      "Test:0, Cost:1.31564, ACC:0.52686\n",
      "Pass:1, Batch:0, Cost:1.26379, Accuracy:0.53125\n",
      "Pass:1, Batch:100, Cost:1.00002, Accuracy:0.61328\n",
      "Test:1, Cost:1.40287, ACC:0.51484\n",
      "Pass:2, Batch:0, Cost:1.03914, Accuracy:0.64062\n",
      "Pass:2, Batch:100, Cost:0.84647, Accuracy:0.69922\n",
      "Test:2, Cost:1.04277, ACC:0.63008\n",
      "Pass:3, Batch:0, Cost:1.00829, Accuracy:0.64453\n",
      "Pass:3, Batch:100, Cost:0.72719, Accuracy:0.73438\n",
      "Test:3, Cost:1.31331, ACC:0.56436\n",
      "Pass:4, Batch:0, Cost:0.82719, Accuracy:0.69531\n",
      "Pass:4, Batch:100, Cost:0.74412, Accuracy:0.72266\n",
      "Test:4, Cost:1.19950, ACC:0.59268\n",
      "Pass:5, Batch:0, Cost:0.76449, Accuracy:0.73047\n",
      "Pass:5, Batch:100, Cost:0.72502, Accuracy:0.75391\n",
      "Test:5, Cost:1.10362, ACC:0.63496\n",
      "Pass:6, Batch:0, Cost:0.66677, Accuracy:0.76953\n",
      "Pass:6, Batch:100, Cost:0.68151, Accuracy:0.75000\n",
      "Test:6, Cost:0.99305, ACC:0.66631\n",
      "Pass:7, Batch:0, Cost:0.69143, Accuracy:0.76172\n",
      "Pass:7, Batch:100, Cost:0.56982, Accuracy:0.80078\n",
      "Test:7, Cost:1.19134, ACC:0.62568\n",
      "Pass:8, Batch:0, Cost:0.55870, Accuracy:0.80859\n",
      "Pass:8, Batch:100, Cost:0.58148, Accuracy:0.79688\n",
      "Test:8, Cost:1.07070, ACC:0.66641\n",
      "Pass:9, Batch:0, Cost:0.53940, Accuracy:0.81250\n",
      "Pass:9, Batch:100, Cost:0.55126, Accuracy:0.80078\n",
      "Test:9, Cost:1.06036, ACC:0.66904\n",
      "Pass:10, Batch:0, Cost:0.47933, Accuracy:0.83594\n",
      "Pass:10, Batch:100, Cost:0.49045, Accuracy:0.82422\n",
      "Test:10, Cost:1.17790, ACC:0.64365\n",
      "Pass:11, Batch:0, Cost:0.47760, Accuracy:0.83984\n",
      "Pass:11, Batch:100, Cost:0.42109, Accuracy:0.86328\n",
      "Test:11, Cost:1.13938, ACC:0.67012\n",
      "Pass:12, Batch:0, Cost:0.40769, Accuracy:0.89453\n",
      "Pass:12, Batch:100, Cost:0.36063, Accuracy:0.89453\n",
      "Test:12, Cost:1.22963, ACC:0.64678\n",
      "Pass:13, Batch:0, Cost:0.53685, Accuracy:0.80469\n",
      "Pass:13, Batch:100, Cost:0.44202, Accuracy:0.83594\n",
      "Test:13, Cost:1.29416, ACC:0.64795\n",
      "Pass:14, Batch:0, Cost:0.37254, Accuracy:0.87109\n",
      "Pass:14, Batch:100, Cost:0.32223, Accuracy:0.88281\n",
      "Test:14, Cost:1.30425, ACC:0.65820\n",
      "Pass:15, Batch:0, Cost:0.39155, Accuracy:0.87500\n",
      "Pass:15, Batch:100, Cost:0.26355, Accuracy:0.91406\n",
      "Test:15, Cost:1.32675, ACC:0.65791\n",
      "Pass:16, Batch:0, Cost:0.27938, Accuracy:0.92969\n",
      "Pass:16, Batch:100, Cost:0.28385, Accuracy:0.91016\n",
      "Test:16, Cost:1.46465, ACC:0.65820\n",
      "Pass:17, Batch:0, Cost:0.26436, Accuracy:0.91016\n",
      "Pass:17, Batch:100, Cost:0.27242, Accuracy:0.90625\n",
      "Test:17, Cost:1.55160, ACC:0.63887\n",
      "Pass:18, Batch:0, Cost:0.23782, Accuracy:0.92188\n",
      "Pass:18, Batch:100, Cost:0.24019, Accuracy:0.90234\n",
      "Test:18, Cost:1.53875, ACC:0.65381\n",
      "Pass:19, Batch:0, Cost:0.27447, Accuracy:0.90234\n",
      "Pass:19, Batch:100, Cost:0.29691, Accuracy:0.90625\n",
      "Test:19, Cost:1.59345, ACC:0.64922\n",
      "Pass:20, Batch:0, Cost:0.21997, Accuracy:0.92188\n",
      "Pass:20, Batch:100, Cost:0.15879, Accuracy:0.95703\n",
      "Test:20, Cost:1.59317, ACC:0.66045\n",
      "Pass:21, Batch:0, Cost:0.21275, Accuracy:0.94141\n",
      "Pass:21, Batch:100, Cost:0.16809, Accuracy:0.94922\n",
      "Test:21, Cost:1.68816, ACC:0.64727\n",
      "Pass:22, Batch:0, Cost:0.21378, Accuracy:0.93750\n",
      "Pass:22, Batch:100, Cost:0.16581, Accuracy:0.95312\n",
      "Test:22, Cost:1.78966, ACC:0.65029\n",
      "Pass:23, Batch:0, Cost:0.19744, Accuracy:0.92969\n",
      "Pass:23, Batch:100, Cost:0.14767, Accuracy:0.94922\n",
      "Test:23, Cost:1.81573, ACC:0.64717\n",
      "Pass:24, Batch:0, Cost:0.26332, Accuracy:0.90234\n",
      "Pass:24, Batch:100, Cost:0.15424, Accuracy:0.95703\n",
      "Test:24, Cost:2.03275, ACC:0.65029\n",
      "Pass:25, Batch:0, Cost:0.13083, Accuracy:0.95312\n",
      "Pass:25, Batch:100, Cost:0.09434, Accuracy:0.97266\n",
      "Test:25, Cost:2.10323, ACC:0.64580\n",
      "Pass:26, Batch:0, Cost:0.15538, Accuracy:0.93750\n",
      "Pass:26, Batch:100, Cost:0.16053, Accuracy:0.93750\n",
      "Test:26, Cost:2.00725, ACC:0.64629\n",
      "Pass:27, Batch:0, Cost:0.17253, Accuracy:0.92969\n",
      "Pass:27, Batch:100, Cost:0.18763, Accuracy:0.91016\n",
      "Test:27, Cost:2.07529, ACC:0.65781\n",
      "Pass:28, Batch:0, Cost:0.13436, Accuracy:0.94922\n",
      "Pass:28, Batch:100, Cost:0.13449, Accuracy:0.94141\n",
      "Test:28, Cost:2.13775, ACC:0.64736\n",
      "Pass:29, Batch:0, Cost:0.15627, Accuracy:0.93359\n",
      "Pass:29, Batch:100, Cost:0.14105, Accuracy:0.95703\n",
      "Test:29, Cost:2.22924, ACC:0.64912\n",
      "save models to ./catdog.model\n",
      "训练模型保存完成！\n"
     ]
    },
    {
     "data": {
      "image/png": "[encoded data removed]",
      "text/plain": [
       "<Figure size 432x288 with 1 Axes>"
      ]
     },
     "metadata": {
      "needs_background": "light"
     },
     "output_type": "display_data"
    }
   ],
   "source": [
    "EPOCH_NUM = 20\n",
    "model_save_dir = \"./catdog.model\"\n",
    "\n",
    "for pass_id in range(EPOCH_NUM):\n",
    "    # 开始训练\n",
    "    for batch_id, data in enumerate(train_reader()):                        #遍历train_reader的迭代器，并为数据加上索引batch_id\n",
    "        train_cost,train_acc = exe.run(program=fluid.default_main_program(),#运行主程序\n",
    "                             feed=feeder.feed(data),                        #喂入一个batch的数据\n",
    "                             fetch_list=[avg_cost, acc])                    #fetch均方误差和准确率\n",
    "\n",
    "        \n",
    "        all_train_iter=all_train_iter+BATCH_SIZE\n",
    "        all_train_iters.append(all_train_iter)\n",
    "        all_train_costs.append(train_cost[0])\n",
    "        all_train_accs.append(train_acc[0])\n",
    "        \n",
    "        #每100次batch打印一次训练、进行一次测试\n",
    "        if batch_id % 100 == 0:                                             \n",
    "            print('Pass:%d, Batch:%d, Cost:%0.5f, Accuracy:%0.5f' % \n",
    "            (pass_id, batch_id, train_cost[0], train_acc[0]))\n",
    "            \n",
    "\n",
    "    # 开始测试\n",
    "    test_costs = []                                                         #测试的损失值\n",
    "    test_accs = []                                                          #测试的准确率\n",
    "    for batch_id, data in enumerate(test_reader()):\n",
    "        test_cost, test_acc = exe.run(program=test_program,                 #执行测试程序\n",
    "                                      feed=feeder.feed(data),               #喂入数据\n",
    "                                      fetch_list=[avg_cost, acc])           #fetch 误差、准确率\n",
    "        test_costs.append(test_cost[0])                                     #记录每个batch的误差\n",
    "        test_accs.append(test_acc[0])                                       #记录每个batch的准确率\n",
    "    \n",
    "    # 求测试结果的平均值\n",
    "    test_cost = (sum(test_costs) / len(test_costs))                         #计算误差平均值（误差和/误差的个数）\n",
    "    test_acc = (sum(test_accs) / len(test_accs))                            #计算准确率平均值（ 准确率的和/准确率的个数）\n",
    "    print('Test:%d, Cost:%0.5f, ACC:%0.5f' % (pass_id, test_cost, test_acc))\n",
    "    \n",
    "#保存模型\n",
    "# 如果保存路径不存在就创建\n",
    "if not os.path.exists(model_save_dir):\n",
    "    os.makedirs(model_save_dir)\n",
    "print ('save models to %s' % (model_save_dir))\n",
    "fluid.io.save_inference_model(model_save_dir,\n",
    "                              ['images'],\n",
    "                              [predict],\n",
    "                              exe)\n",
    "print('训练模型保存完成！')\n",
    "draw_train_process(\"training\",all_train_iters,all_train_costs,all_train_accs,\"trainning cost\",\"trainning acc\")"
   ]
  },
  {
   "cell_type": "code",
   "execution_count": 5,
   "metadata": {
    "ExecuteTime": {
     "end_time": "2020-01-06T01:08:00.670000Z",
     "start_time": "2020-01-06T01:08:00.644000Z"
    }
   },
   "outputs": [
    {
     "ename": "NameError",
     "evalue": "name 'place' is not defined",
     "output_type": "error",
     "traceback": [
      "\u001b[1;31m---------------------------------------------------------------------------\u001b[0m",
      "\u001b[1;31mNameError\u001b[0m                                 Traceback (most recent call last)",
      "\u001b[1;32m<ipython-input-5-a8a8afbd4cab>\u001b[0m in \u001b[0;36m<module>\u001b[1;34m\u001b[0m\n\u001b[1;32m----> 1\u001b[1;33m \u001b[0minfer_exe\u001b[0m \u001b[1;33m=\u001b[0m \u001b[0mfluid\u001b[0m\u001b[1;33m.\u001b[0m\u001b[0mExecutor\u001b[0m\u001b[1;33m(\u001b[0m\u001b[0mplace\u001b[0m\u001b[1;33m)\u001b[0m\u001b[1;33m\u001b[0m\u001b[1;33m\u001b[0m\u001b[0m\n\u001b[0m\u001b[0;32m      2\u001b[0m \u001b[0minference_scope\u001b[0m \u001b[1;33m=\u001b[0m \u001b[0mfluid\u001b[0m\u001b[1;33m.\u001b[0m\u001b[0mcore\u001b[0m\u001b[1;33m.\u001b[0m\u001b[0mScope\u001b[0m\u001b[1;33m(\u001b[0m\u001b[1;33m)\u001b[0m\u001b[1;33m\u001b[0m\u001b[1;33m\u001b[0m\u001b[0m\n",
      "\u001b[1;31mNameError\u001b[0m: name 'place' is not defined"
     ]
    }
   ],
   "source": [
    "infer_exe = fluid.Executor(place)\n",
    "inference_scope = fluid.core.Scope()"
   ]
  },
  {
   "cell_type": "code",
   "execution_count": 3,
   "metadata": {
    "ExecuteTime": {
     "end_time": "2020-01-06T01:07:31.522000Z",
     "start_time": "2020-01-06T01:07:31.508000Z"
    }
   },
   "outputs": [],
   "source": [
    "def load_image(file):\n",
    "        #打开图片\n",
    "        im = Image.open(file)\n",
    "        #将图片调整为跟训练数据一样的大小  32*32，                   设定ANTIALIAS，即抗锯齿.resize是缩放\n",
    "        im = im.resize((32, 32), Image.ANTIALIAS)\n",
    "        #建立图片矩阵 类型为float32\n",
    "        im = np.array(im).astype(np.float32)\n",
    "        #矩阵转置 \n",
    "        im = im.transpose((2, 0, 1))                               \n",
    "        #将像素值从【0-255】转换为【0-1】\n",
    "        im = im / 255.0\n",
    "        #print(im)       \n",
    "        im = np.expand_dims(im, axis=0)\n",
    "        # 保持和之前输入image维度一致\n",
    "        print('im_shape的维度：',im.shape)\n",
    "        return im"
   ]
  },
  {
   "cell_type": "code",
   "execution_count": 4,
   "metadata": {
    "ExecuteTime": {
     "end_time": "2020-01-06T01:07:32.653000Z",
     "start_time": "2020-01-06T01:07:32.547000Z"
    }
   },
   "outputs": [
    {
     "ename": "NameError",
     "evalue": "name 'inference_scope' is not defined",
     "output_type": "error",
     "traceback": [
      "\u001b[1;31m---------------------------------------------------------------------------\u001b[0m",
      "\u001b[1;31mNameError\u001b[0m                                 Traceback (most recent call last)",
      "\u001b[1;32m<ipython-input-4-f7a956348177>\u001b[0m in \u001b[0;36m<module>\u001b[1;34m\u001b[0m\n\u001b[1;32m----> 1\u001b[1;33m \u001b[1;32mwith\u001b[0m \u001b[0mfluid\u001b[0m\u001b[1;33m.\u001b[0m\u001b[0mscope_guard\u001b[0m\u001b[1;33m(\u001b[0m\u001b[0minference_scope\u001b[0m\u001b[1;33m)\u001b[0m\u001b[1;33m:\u001b[0m\u001b[1;33m\u001b[0m\u001b[1;33m\u001b[0m\u001b[0m\n\u001b[0m\u001b[0;32m      2\u001b[0m     \u001b[1;31m#从指定目录中加载 推理model(inference model)\u001b[0m\u001b[1;33m\u001b[0m\u001b[1;33m\u001b[0m\u001b[1;33m\u001b[0m\u001b[0m\n\u001b[0;32m      3\u001b[0m     [inference_program, # 预测用的program\n\u001b[0;32m      4\u001b[0m      \u001b[0mfeed_target_names\u001b[0m\u001b[1;33m,\u001b[0m \u001b[1;31m# 是一个str列表，它包含需要在推理 Program 中提供数据的变量的名称。\u001b[0m\u001b[1;33m\u001b[0m\u001b[1;33m\u001b[0m\u001b[0m\n\u001b[0;32m      5\u001b[0m      \u001b[0mfetch_targets\u001b[0m\u001b[1;33m]\u001b[0m \u001b[1;33m=\u001b[0m \u001b[0mfluid\u001b[0m\u001b[1;33m.\u001b[0m\u001b[0mio\u001b[0m\u001b[1;33m.\u001b[0m\u001b[0mload_inference_model\u001b[0m\u001b[1;33m(\u001b[0m\u001b[0mmodel_save_dir\u001b[0m\u001b[1;33m,\u001b[0m\u001b[1;31m#fetch_targets：是一个 Variable 列表，从中我们可以得到推断结果。\u001b[0m\u001b[1;33m\u001b[0m\u001b[1;33m\u001b[0m\u001b[0m\n",
      "\u001b[1;31mNameError\u001b[0m: name 'inference_scope' is not defined"
     ]
    }
   ],
   "source": [
    "with fluid.scope_guard(inference_scope):\n",
    "    #从指定目录中加载 推理model(inference model)\n",
    "    [inference_program, # 预测用的program\n",
    "     feed_target_names, # 是一个str列表，它包含需要在推理 Program 中提供数据的变量的名称。 \n",
    "     fetch_targets] = fluid.io.load_inference_model(model_save_dir,#fetch_targets：是一个 Variable 列表，从中我们可以得到推断结果。\n",
    "                                                    infer_exe)     #infer_exe: 运行 inference model的 executor\n",
    "    \n",
    "    infer_path='dog1.jpg'\n",
    "    img = Image.open(infer_path)\n",
    "    plt.imshow(img)   \n",
    "    plt.show()    \n",
    "    \n",
    "    img = load_image(infer_path)\n",
    "\n",
    "    results = infer_exe.run(inference_program,                 #运行预测程序\n",
    "                            feed={feed_target_names[0]: img},  #喂入要预测的img\n",
    "                            fetch_list=fetch_targets)          #得到推测结果\n",
    "    \n",
    "    resultall = np.array(results)\n",
    "    \n",
    "    top_k_idx = resultall.argsort()[::][0:10]\n",
    "    \n",
    "    print(top_k_idx)\n",
    "    label_list = [\n",
    "        \"airplane\", \"automobile\", \"bird\", \"cat\", \"deer\", \"dog\", \"frog\", \"horse\",\n",
    "        \"ship\", \"truck\"\n",
    "        ]\n",
    "#     print(\"infer results: %s\" % label_list[np.argmax(results[0])])"
   ]
  },
  {
   "cell_type": "code",
   "execution_count": null,
   "metadata": {},
   "outputs": [],
   "source": []
  }
 ],
 "metadata": {
  "kernelspec": {
   "display_name": "Python 3",
   "language": "python",
   "name": "python3"
  },
  "language_info": {
   "codemirror_mode": {
    "name": "ipython",
    "version": 3
   },
   "file_extension": ".py",
   "mimetype": "text/x-python",
   "name": "python",
   "nbconvert_exporter": "python",
   "pygments_lexer": "ipython3",
   "version": "3.7.5"
  },
  "pycharm": {
   "stem_cell": {
    "cell_type": "raw",
    "metadata": {
     "collapsed": false
    },
    "source": []
   }
  }
 },
 "nbformat": 4,
 "nbformat_minor": 2
}
